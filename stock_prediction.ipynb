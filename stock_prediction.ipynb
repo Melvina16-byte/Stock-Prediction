{
 "cells": [
  {
   "cell_type": "code",
   "execution_count": 7,
   "id": "a83bbf40",
   "metadata": {},
   "outputs": [],
   "source": [
    "import pandas as pd\n",
    "import numpy as np"
   ]
  },
  {
   "cell_type": "code",
   "execution_count": 8,
   "id": "cb192cba",
   "metadata": {},
   "outputs": [],
   "source": [
    "import matplotlib.pyplot as plt\n",
    "import keras"
   ]
  },
  {
   "cell_type": "code",
   "execution_count": 9,
   "id": "dbefefcd",
   "metadata": {},
   "outputs": [],
   "source": [
    "#Importing the data\n",
    "train= pd.read_csv('Price_train.csv')\n",
    "test= pd.read_csv('Price_test.csv')"
   ]
  },
  {
   "cell_type": "code",
   "execution_count": 10,
   "id": "92058668",
   "metadata": {},
   "outputs": [
    {
     "data": {
      "text/html": [
       "<div>\n",
       "<style scoped>\n",
       "    .dataframe tbody tr th:only-of-type {\n",
       "        vertical-align: middle;\n",
       "    }\n",
       "\n",
       "    .dataframe tbody tr th {\n",
       "        vertical-align: top;\n",
       "    }\n",
       "\n",
       "    .dataframe thead th {\n",
       "        text-align: right;\n",
       "    }\n",
       "</style>\n",
       "<table border=\"1\" class=\"dataframe\">\n",
       "  <thead>\n",
       "    <tr style=\"text-align: right;\">\n",
       "      <th></th>\n",
       "      <th>Date</th>\n",
       "      <th>Open</th>\n",
       "      <th>High</th>\n",
       "      <th>Low</th>\n",
       "      <th>Close</th>\n",
       "      <th>Volume</th>\n",
       "    </tr>\n",
       "  </thead>\n",
       "  <tbody>\n",
       "    <tr>\n",
       "      <th>0</th>\n",
       "      <td>1/3/2012</td>\n",
       "      <td>325.25</td>\n",
       "      <td>332.83</td>\n",
       "      <td>324.97</td>\n",
       "      <td>663.59</td>\n",
       "      <td>7,380,500</td>\n",
       "    </tr>\n",
       "    <tr>\n",
       "      <th>1</th>\n",
       "      <td>1/4/2012</td>\n",
       "      <td>331.27</td>\n",
       "      <td>333.87</td>\n",
       "      <td>329.08</td>\n",
       "      <td>666.45</td>\n",
       "      <td>5,749,400</td>\n",
       "    </tr>\n",
       "    <tr>\n",
       "      <th>2</th>\n",
       "      <td>1/5/2012</td>\n",
       "      <td>329.83</td>\n",
       "      <td>330.75</td>\n",
       "      <td>326.89</td>\n",
       "      <td>657.21</td>\n",
       "      <td>6,590,300</td>\n",
       "    </tr>\n",
       "    <tr>\n",
       "      <th>3</th>\n",
       "      <td>1/6/2012</td>\n",
       "      <td>328.34</td>\n",
       "      <td>328.77</td>\n",
       "      <td>323.68</td>\n",
       "      <td>648.24</td>\n",
       "      <td>5,405,900</td>\n",
       "    </tr>\n",
       "    <tr>\n",
       "      <th>4</th>\n",
       "      <td>1/9/2012</td>\n",
       "      <td>322.04</td>\n",
       "      <td>322.29</td>\n",
       "      <td>309.46</td>\n",
       "      <td>620.76</td>\n",
       "      <td>11,688,800</td>\n",
       "    </tr>\n",
       "  </tbody>\n",
       "</table>\n",
       "</div>"
      ],
      "text/plain": [
       "       Date    Open    High     Low   Close      Volume\n",
       "0  1/3/2012  325.25  332.83  324.97  663.59   7,380,500\n",
       "1  1/4/2012  331.27  333.87  329.08  666.45   5,749,400\n",
       "2  1/5/2012  329.83  330.75  326.89  657.21   6,590,300\n",
       "3  1/6/2012  328.34  328.77  323.68  648.24   5,405,900\n",
       "4  1/9/2012  322.04  322.29  309.46  620.76  11,688,800"
      ]
     },
     "execution_count": 10,
     "metadata": {},
     "output_type": "execute_result"
    }
   ],
   "source": [
    "train.head()"
   ]
  },
  {
   "cell_type": "code",
   "execution_count": 11,
   "id": "dbcd7723",
   "metadata": {},
   "outputs": [],
   "source": [
    "#taking open price from data in 2d array , if we will do train.loc[:, 'open'].values it gives one d array which wont\n",
    "#be considered in scaling\n",
    "train_open= train.iloc[:, 1:2].values"
   ]
  },
  {
   "cell_type": "code",
   "execution_count": 12,
   "id": "c257985d",
   "metadata": {},
   "outputs": [
    {
     "name": "stdout",
     "output_type": "stream",
     "text": [
      "Requirement already satisfied: sklearn in c:\\users\\asus\\appdata\\local\\programs\\python\\python311\\lib\\site-packages (0.0.post1)\n",
      "Note: you may need to restart the kernel to use updated packages.\n"
     ]
    },
    {
     "name": "stderr",
     "output_type": "stream",
     "text": [
      "\n",
      "[notice] A new release of pip is available: 23.0.1 -> 23.1.2\n",
      "[notice] To update, run: python.exe -m pip install --upgrade pip\n"
     ]
    }
   ],
   "source": [
    "pip install sklearn"
   ]
  },
  {
   "cell_type": "code",
   "execution_count": 2,
   "id": "18fff302",
   "metadata": {},
   "outputs": [
    {
     "name": "stdout",
     "output_type": "stream",
     "text": [
      "Note: you may need to restart the kernel to use updated packages.\n"
     ]
    },
    {
     "name": "stderr",
     "output_type": "stream",
     "text": [
      "ERROR: Could not find a version that satisfies the requirement MinMaxScaler (from versions: none)\n",
      "ERROR: No matching distribution found for MinMaxScaler\n",
      "\n",
      "[notice] A new release of pip is available: 23.0.1 -> 23.1.2\n",
      "[notice] To update, run: python.exe -m pip install --upgrade pip\n"
     ]
    }
   ],
   "source": [
    "pip install MinMaxScaler"
   ]
  },
  {
   "cell_type": "code",
   "execution_count": 4,
   "id": "f4b982e5",
   "metadata": {},
   "outputs": [
    {
     "name": "stdout",
     "output_type": "stream",
     "text": [
      "Collecting scikit-learn\n",
      "  Using cached scikit_learn-1.2.2-cp311-cp311-win_amd64.whl (8.3 MB)\n",
      "Requirement already satisfied: scipy in c:\\users\\asus\\appdata\\local\\programs\\python\\python311\\lib\\site-packages (1.10.1)\n",
      "Requirement already satisfied: matplotlib in c:\\users\\asus\\appdata\\local\\programs\\python\\python311\\lib\\site-packages (3.7.1)\n",
      "Requirement already satisfied: numpy>=1.17.3 in c:\\users\\asus\\appdata\\local\\programs\\python\\python311\\lib\\site-packages (from scikit-learn) (1.23.5)\n",
      "Collecting joblib>=1.1.1\n",
      "  Using cached joblib-1.2.0-py3-none-any.whl (297 kB)\n",
      "Collecting threadpoolctl>=2.0.0\n",
      "  Using cached threadpoolctl-3.1.0-py3-none-any.whl (14 kB)\n",
      "Requirement already satisfied: contourpy>=1.0.1 in c:\\users\\asus\\appdata\\local\\programs\\python\\python311\\lib\\site-packages (from matplotlib) (1.0.7)\n",
      "Requirement already satisfied: cycler>=0.10 in c:\\users\\asus\\appdata\\local\\programs\\python\\python311\\lib\\site-packages (from matplotlib) (0.11.0)\n",
      "Requirement already satisfied: fonttools>=4.22.0 in c:\\users\\asus\\appdata\\local\\programs\\python\\python311\\lib\\site-packages (from matplotlib) (4.39.4)\n",
      "Requirement already satisfied: kiwisolver>=1.0.1 in c:\\users\\asus\\appdata\\local\\programs\\python\\python311\\lib\\site-packages (from matplotlib) (1.4.4)\n",
      "Requirement already satisfied: packaging>=20.0 in c:\\users\\asus\\appdata\\local\\programs\\python\\python311\\lib\\site-packages (from matplotlib) (22.0)\n",
      "Requirement already satisfied: pillow>=6.2.0 in c:\\users\\asus\\appdata\\local\\programs\\python\\python311\\lib\\site-packages (from matplotlib) (9.4.0)\n",
      "Requirement already satisfied: pyparsing>=2.3.1 in c:\\users\\asus\\appdata\\local\\programs\\python\\python311\\lib\\site-packages (from matplotlib) (3.0.9)\n",
      "Requirement already satisfied: python-dateutil>=2.7 in c:\\users\\asus\\appdata\\local\\programs\\python\\python311\\lib\\site-packages (from matplotlib) (2.8.2)\n",
      "Requirement already satisfied: six>=1.5 in c:\\users\\asus\\appdata\\local\\programs\\python\\python311\\lib\\site-packages (from python-dateutil>=2.7->matplotlib) (1.16.0)\n",
      "Installing collected packages: threadpoolctl, joblib, scikit-learn\n",
      "Note: you may need to restart the kernel to use updated packages.\n"
     ]
    },
    {
     "name": "stderr",
     "output_type": "stream",
     "text": [
      "ERROR: Could not install packages due to an OSError: [WinError 32] The process cannot access the file because it is being used by another process: 'C:\\\\Users\\\\ASUS\\\\AppData\\\\Local\\\\Programs\\\\Python\\\\Python311\\\\Lib\\\\site-packages\\\\joblib\\\\externals\\\\loky\\\\backend\\\\popen_loky_win32.py'\n",
      "Consider using the `--user` option or check the permissions.\n",
      "\n",
      "\n",
      "[notice] A new release of pip is available: 23.0.1 -> 23.1.2\n",
      "[notice] To update, run: python.exe -m pip install --upgrade pip\n"
     ]
    }
   ],
   "source": [
    "pip install -U scikit-learn scipy matplotlib"
   ]
  },
  {
   "cell_type": "code",
   "execution_count": 13,
   "id": "de0f6142",
   "metadata": {},
   "outputs": [],
   "source": [
    "from sklearn.preprocessing import MinMaxScaler\n",
    "ss= MinMaxScaler(feature_range=(0,1))\n",
    "train_open_scaled= ss.fit_transform(train_open)"
   ]
  },
  {
   "cell_type": "code",
   "execution_count": 14,
   "id": "def4ee85",
   "metadata": {},
   "outputs": [
    {
     "data": {
      "text/plain": [
       "array([0.08627874])"
      ]
     },
     "execution_count": 14,
     "metadata": {},
     "output_type": "execute_result"
    }
   ],
   "source": [
    "train_open_scaled[60]"
   ]
  },
  {
   "cell_type": "code",
   "execution_count": 15,
   "id": "fa939813",
   "metadata": {},
   "outputs": [],
   "source": [
    "# Feature selection\n",
    "xtrain=[]\n",
    "ytrain=[]\n",
    "for i in range(60,len(train_open_scaled)):\n",
    "    xtrain.append(train_open_scaled[i-60:i,0])\n",
    "    ytrain.append(train_open_scaled[i,0])\n",
    "\n",
    "xtrain, ytrain = np.array(xtrain), np.array(ytrain)"
   ]
  },
  {
   "cell_type": "code",
   "execution_count": 16,
   "id": "f8d44077",
   "metadata": {},
   "outputs": [],
   "source": [
    "#Reshaping the train data to make it as input for LTSM layer input_shape(batchzise,timesteps,input_dim)\n",
    "xtrain= np.reshape(xtrain,(xtrain.shape[0],xtrain.shape[1],1))"
   ]
  },
  {
   "cell_type": "code",
   "execution_count": 17,
   "id": "765a30a3",
   "metadata": {},
   "outputs": [
    {
     "data": {
      "text/plain": [
       "(1198, 60, 1)"
      ]
     },
     "execution_count": 17,
     "metadata": {},
     "output_type": "execute_result"
    }
   ],
   "source": [
    "\n",
    "xtrain.shape"
   ]
  },
  {
   "cell_type": "code",
   "execution_count": 18,
   "id": "2c4c2339",
   "metadata": {},
   "outputs": [],
   "source": [
    "from keras.models import Sequential\n",
    "from keras.layers import LSTM\n",
    "from keras.layers import Dense\n",
    "from keras.layers import Dropout"
   ]
  },
  {
   "cell_type": "code",
   "execution_count": 19,
   "id": "cb85382d",
   "metadata": {},
   "outputs": [
    {
     "name": "stdout",
     "output_type": "stream",
     "text": [
      "Epoch 1/100\n",
      "40/40 [==============================] - 118s 521ms/step - loss: 0.0458\n",
      "Epoch 2/100\n",
      "40/40 [==============================] - 29s 718ms/step - loss: 0.0057\n",
      "Epoch 3/100\n",
      "40/40 [==============================] - 31s 787ms/step - loss: 0.0056\n",
      "Epoch 4/100\n",
      "40/40 [==============================] - 30s 758ms/step - loss: 0.0054\n",
      "Epoch 5/100\n",
      "40/40 [==============================] - 31s 776ms/step - loss: 0.0048\n",
      "Epoch 6/100\n",
      "40/40 [==============================] - 30s 753ms/step - loss: 0.0053\n",
      "Epoch 7/100\n",
      "40/40 [==============================] - 27s 683ms/step - loss: 0.0049\n",
      "Epoch 8/100\n",
      "40/40 [==============================] - 29s 721ms/step - loss: 0.0045\n",
      "Epoch 9/100\n",
      "40/40 [==============================] - 24s 592ms/step - loss: 0.0046\n",
      "Epoch 10/100\n",
      "40/40 [==============================] - 22s 549ms/step - loss: 0.0051\n",
      "Epoch 11/100\n",
      "40/40 [==============================] - 23s 562ms/step - loss: 0.0041\n",
      "Epoch 12/100\n",
      "40/40 [==============================] - 25s 637ms/step - loss: 0.0041\n",
      "Epoch 13/100\n",
      "40/40 [==============================] - 39s 972ms/step - loss: 0.0037\n",
      "Epoch 14/100\n",
      "40/40 [==============================] - 33s 812ms/step - loss: 0.0038\n",
      "Epoch 15/100\n",
      "40/40 [==============================] - 31s 767ms/step - loss: 0.0044\n",
      "Epoch 16/100\n",
      "40/40 [==============================] - 27s 685ms/step - loss: 0.0038\n",
      "Epoch 17/100\n",
      "40/40 [==============================] - 31s 787ms/step - loss: 0.0038\n",
      "Epoch 18/100\n",
      "40/40 [==============================] - 29s 721ms/step - loss: 0.0036\n",
      "Epoch 19/100\n",
      "40/40 [==============================] - 31s 768ms/step - loss: 0.0033\n",
      "Epoch 20/100\n",
      "40/40 [==============================] - 32s 799ms/step - loss: 0.0035\n",
      "Epoch 21/100\n",
      "40/40 [==============================] - 31s 774ms/step - loss: 0.0036\n",
      "Epoch 22/100\n",
      "40/40 [==============================] - 40s 1000ms/step - loss: 0.0034\n",
      "Epoch 23/100\n",
      "40/40 [==============================] - 34s 865ms/step - loss: 0.0035\n",
      "Epoch 24/100\n",
      "40/40 [==============================] - 43s 1s/step - loss: 0.0034\n",
      "Epoch 25/100\n",
      "40/40 [==============================] - 48s 1s/step - loss: 0.0031\n",
      "Epoch 26/100\n",
      "40/40 [==============================] - 53s 1s/step - loss: 0.0030\n",
      "Epoch 27/100\n",
      "40/40 [==============================] - 32s 797ms/step - loss: 0.0036\n",
      "Epoch 28/100\n",
      "40/40 [==============================] - 35s 888ms/step - loss: 0.0030\n",
      "Epoch 29/100\n",
      "40/40 [==============================] - 37s 906ms/step - loss: 0.0035\n",
      "Epoch 30/100\n",
      "40/40 [==============================] - 37s 917ms/step - loss: 0.0032\n",
      "Epoch 31/100\n",
      "40/40 [==============================] - 71s 2s/step - loss: 0.0029\n",
      "Epoch 32/100\n",
      "40/40 [==============================] - 63s 2s/step - loss: 0.0031\n",
      "Epoch 33/100\n",
      "40/40 [==============================] - 29s 702ms/step - loss: 0.0027\n",
      "Epoch 34/100\n",
      "40/40 [==============================] - 37s 940ms/step - loss: 0.0031\n",
      "Epoch 35/100\n",
      "40/40 [==============================] - 38s 958ms/step - loss: 0.0027\n",
      "Epoch 36/100\n",
      "40/40 [==============================] - 30s 735ms/step - loss: 0.0026\n",
      "Epoch 37/100\n",
      "40/40 [==============================] - 28s 708ms/step - loss: 0.0026\n",
      "Epoch 38/100\n",
      "40/40 [==============================] - 28s 698ms/step - loss: 0.0028\n",
      "Epoch 39/100\n",
      "40/40 [==============================] - 36s 922ms/step - loss: 0.0024\n",
      "Epoch 40/100\n",
      "40/40 [==============================] - 30s 750ms/step - loss: 0.0027\n",
      "Epoch 41/100\n",
      "40/40 [==============================] - 43s 1s/step - loss: 0.0028\n",
      "Epoch 42/100\n",
      "40/40 [==============================] - 30s 750ms/step - loss: 0.0026\n",
      "Epoch 43/100\n",
      "40/40 [==============================] - 28s 704ms/step - loss: 0.0024\n",
      "Epoch 44/100\n",
      "40/40 [==============================] - 41s 1s/step - loss: 0.0025\n",
      "Epoch 45/100\n",
      "40/40 [==============================] - 29s 720ms/step - loss: 0.0026\n",
      "Epoch 46/100\n",
      "40/40 [==============================] - 39s 989ms/step - loss: 0.0025\n",
      "Epoch 47/100\n",
      "40/40 [==============================] - 47s 1s/step - loss: 0.0027\n",
      "Epoch 48/100\n",
      "40/40 [==============================] - 36s 868ms/step - loss: 0.0026\n",
      "Epoch 49/100\n",
      "40/40 [==============================] - 24s 599ms/step - loss: 0.0025\n",
      "Epoch 50/100\n",
      "40/40 [==============================] - 43s 1s/step - loss: 0.0022\n",
      "Epoch 51/100\n",
      "40/40 [==============================] - 43s 1s/step - loss: 0.0024\n",
      "Epoch 52/100\n",
      "40/40 [==============================] - 40s 1s/step - loss: 0.0027\n",
      "Epoch 53/100\n",
      "40/40 [==============================] - 33s 821ms/step - loss: 0.0023\n",
      "Epoch 54/100\n",
      "40/40 [==============================] - 30s 767ms/step - loss: 0.0022\n",
      "Epoch 55/100\n",
      "40/40 [==============================] - 25s 628ms/step - loss: 0.0023\n",
      "Epoch 56/100\n",
      "40/40 [==============================] - 49s 1s/step - loss: 0.0022\n",
      "Epoch 57/100\n",
      "40/40 [==============================] - 47s 1s/step - loss: 0.0022\n",
      "Epoch 58/100\n",
      "40/40 [==============================] - 37s 935ms/step - loss: 0.0021\n",
      "Epoch 59/100\n",
      "40/40 [==============================] - 48s 1s/step - loss: 0.0023\n",
      "Epoch 60/100\n",
      "40/40 [==============================] - 48s 1s/step - loss: 0.0021\n",
      "Epoch 61/100\n",
      "40/40 [==============================] - 36s 871ms/step - loss: 0.0019\n",
      "Epoch 62/100\n",
      "40/40 [==============================] - 27s 680ms/step - loss: 0.0022\n",
      "Epoch 63/100\n",
      "40/40 [==============================] - 28s 690ms/step - loss: 0.0018\n",
      "Epoch 64/100\n",
      "40/40 [==============================] - 38s 960ms/step - loss: 0.0018\n",
      "Epoch 65/100\n",
      "40/40 [==============================] - 32s 810ms/step - loss: 0.0018\n",
      "Epoch 66/100\n",
      "40/40 [==============================] - 27s 665ms/step - loss: 0.0017\n",
      "Epoch 67/100\n",
      "40/40 [==============================] - 42s 1s/step - loss: 0.0018\n",
      "Epoch 68/100\n",
      "40/40 [==============================] - 43s 1s/step - loss: 0.0017\n",
      "Epoch 69/100\n",
      "40/40 [==============================] - 35s 885ms/step - loss: 0.0018\n",
      "Epoch 70/100\n",
      "40/40 [==============================] - 39s 983ms/step - loss: 0.0020\n",
      "Epoch 71/100\n",
      "40/40 [==============================] - 34s 843ms/step - loss: 0.0018\n",
      "Epoch 72/100\n",
      "40/40 [==============================] - 28s 696ms/step - loss: 0.0019\n",
      "Epoch 73/100\n",
      "40/40 [==============================] - 30s 760ms/step - loss: 0.0017\n",
      "Epoch 74/100\n",
      "40/40 [==============================] - 32s 809ms/step - loss: 0.0019\n",
      "Epoch 75/100\n",
      "40/40 [==============================] - 27s 680ms/step - loss: 0.0018\n",
      "Epoch 76/100\n",
      "40/40 [==============================] - 30s 743ms/step - loss: 0.0019\n",
      "Epoch 77/100\n",
      "40/40 [==============================] - 26s 650ms/step - loss: 0.0017\n",
      "Epoch 78/100\n",
      "40/40 [==============================] - 27s 685ms/step - loss: 0.0017\n",
      "Epoch 79/100\n",
      "40/40 [==============================] - 26s 646ms/step - loss: 0.0017\n",
      "Epoch 80/100\n",
      "40/40 [==============================] - 28s 691ms/step - loss: 0.0016\n",
      "Epoch 81/100\n",
      "40/40 [==============================] - 26s 647ms/step - loss: 0.0017\n",
      "Epoch 82/100\n",
      "40/40 [==============================] - 24s 607ms/step - loss: 0.0016\n",
      "Epoch 83/100\n",
      "40/40 [==============================] - 21s 514ms/step - loss: 0.0016\n",
      "Epoch 84/100\n",
      "40/40 [==============================] - 20s 495ms/step - loss: 0.0015\n",
      "Epoch 85/100\n",
      "40/40 [==============================] - 21s 516ms/step - loss: 0.0016\n",
      "Epoch 86/100\n",
      "40/40 [==============================] - 22s 541ms/step - loss: 0.0015\n",
      "Epoch 87/100\n",
      "40/40 [==============================] - 20s 500ms/step - loss: 0.0014\n",
      "Epoch 88/100\n",
      "40/40 [==============================] - 33s 838ms/step - loss: 0.0016\n",
      "Epoch 89/100\n",
      "40/40 [==============================] - 32s 807ms/step - loss: 0.0016\n",
      "Epoch 90/100\n",
      "40/40 [==============================] - 28s 712ms/step - loss: 0.0018\n",
      "Epoch 91/100\n",
      "40/40 [==============================] - 27s 664ms/step - loss: 0.0017\n",
      "Epoch 92/100\n",
      "40/40 [==============================] - 28s 701ms/step - loss: 0.0017\n",
      "Epoch 93/100\n",
      "40/40 [==============================] - 28s 692ms/step - loss: 0.0018\n",
      "Epoch 94/100\n",
      "40/40 [==============================] - 28s 693ms/step - loss: 0.0015\n",
      "Epoch 95/100\n",
      "40/40 [==============================] - 26s 660ms/step - loss: 0.0014\n",
      "Epoch 96/100\n",
      "40/40 [==============================] - 33s 830ms/step - loss: 0.0013\n",
      "Epoch 97/100\n",
      "40/40 [==============================] - 27s 664ms/step - loss: 0.0014\n",
      "Epoch 98/100\n",
      "40/40 [==============================] - 27s 685ms/step - loss: 0.0015\n",
      "Epoch 99/100\n",
      "40/40 [==============================] - 28s 690ms/step - loss: 0.0015\n",
      "Epoch 100/100\n",
      "40/40 [==============================] - 27s 664ms/step - loss: 0.0013\n"
     ]
    },
    {
     "data": {
      "text/plain": [
       "<keras.callbacks.History at 0x19d891de410>"
      ]
     },
     "execution_count": 19,
     "metadata": {},
     "output_type": "execute_result"
    }
   ],
   "source": [
    "#initialisizng the model \n",
    "regression= Sequential()\n",
    "\n",
    "#First Input layer and LSTM layer with 0.2% dropout\n",
    "regression.add(LSTM(units=50,return_sequences=True,kernel_initializer='glorot_uniform',input_shape=(xtrain.shape[1],1)))\n",
    "regression.add(Dropout(0.2))\n",
    "\n",
    "# Where:\n",
    "#     return_sequences: Boolean. Whether to return the last output in the output sequence, or the full sequence.\n",
    "\n",
    "# Second LSTM layer with 0.2% dropout\n",
    "regression.add(LSTM(units=50,kernel_initializer='glorot_uniform',return_sequences=True))\n",
    "regression.add(Dropout(0.2))\n",
    "\n",
    "#Third LSTM layer with 0.2% dropout\n",
    "regression.add(LSTM(units=50,kernel_initializer='glorot_uniform',return_sequences=True))\n",
    "regression.add(Dropout(0.2))\n",
    "\n",
    "#Fourth LSTM layer with 0.2% dropout, we wont use return sequence true in last layers as we dont want to previous output\n",
    "regression.add(LSTM(units=50,kernel_initializer='glorot_uniform'))\n",
    "regression.add(Dropout(0.2))\n",
    "#Output layer , we wont pass any activation as its continous value model\n",
    "regression.add(Dense(units=1))\n",
    "\n",
    "#Compiling the network\n",
    "regression.compile(optimizer='adam',loss='mean_squared_error')\n",
    "\n",
    "\n",
    "#fitting the network\n",
    "regression.fit(xtrain,ytrain,batch_size=30,epochs=100)"
   ]
  },
  {
   "cell_type": "code",
   "execution_count": 20,
   "id": "595b4042",
   "metadata": {},
   "outputs": [
    {
     "name": "stderr",
     "output_type": "stream",
     "text": [
      "C:\\Users\\ASUS\\AppData\\Local\\Temp\\ipykernel_6192\\2469601162.py:3: FutureWarning: The behavior of `series[i:j]` with an integer-dtype index is deprecated. In a future version, this will be treated as *label-based* indexing, consistent with e.g. `series[i]` lookups. To retain the old behavior, use `series.iloc[i:j]`. To get the future behavior, use `series.loc[i:j]`.\n",
      "  test_input = total[len(total)-len(test)-60:].values\n"
     ]
    }
   ],
   "source": [
    "test_open= test.iloc[:, 1:2].values #taking  open price\n",
    "total= pd.concat([train['Open'],test['Open']],axis=0) # Concating train and test and then will take last 60 train point\n",
    "test_input = total[len(total)-len(test)-60:].values\n",
    "test_input= test_input.reshape(-1,1) # reshaping it to get it transformed\n",
    "test_input= ss.transform(test_input)"
   ]
  },
  {
   "cell_type": "code",
   "execution_count": 21,
   "id": "e7c93c2f",
   "metadata": {},
   "outputs": [],
   "source": [
    "xtest= []\n",
    "for i in range(60,80):\n",
    "    xtest.append(test_input[i-60:i,0]) #creating input for lstm prediction"
   ]
  },
  {
   "cell_type": "code",
   "execution_count": 22,
   "id": "db6036f7",
   "metadata": {},
   "outputs": [],
   "source": [
    "xtest= np.array(xtest)"
   ]
  },
  {
   "cell_type": "code",
   "execution_count": 23,
   "id": "14217399",
   "metadata": {},
   "outputs": [
    {
     "name": "stdout",
     "output_type": "stream",
     "text": [
      "1/1 [==============================] - 50s 50s/step\n"
     ]
    }
   ],
   "source": [
    "xtest= np.reshape(xtest,(xtest.shape[0],xtest.shape[1],1))\n",
    "predicted_value= regression.predict(xtest)"
   ]
  },
  {
   "cell_type": "code",
   "execution_count": 24,
   "id": "ed3ede9f",
   "metadata": {},
   "outputs": [],
   "source": [
    "predicted_value= ss.inverse_transform(predicted_value)"
   ]
  },
  {
   "cell_type": "code",
   "execution_count": 25,
   "id": "00c49e7d",
   "metadata": {
    "scrolled": true
   },
   "outputs": [
    {
     "data": {
      "text/plain": [
       "<matplotlib.legend.Legend at 0x19d9264ab50>"
      ]
     },
     "execution_count": 25,
     "metadata": {},
     "output_type": "execute_result"
    },
    {
     "data": {
      "image/png": "[encoded data removed]",
      "text/plain": [
       "<Figure size 2000x1000 with 1 Axes>"
      ]
     },
     "metadata": {},
     "output_type": "display_data"
    }
   ],
   "source": [
    "plt.figure(figsize=(20,10))\n",
    "plt.plot(test_open,'red',label='Real Prices')\n",
    "plt.plot(predicted_value,'blue',label='Predicted Prices')\n",
    "plt.xlabel('Time')\n",
    "plt.ylabel('Prices')\n",
    "plt.title('Real vs Predicted Prices')\n",
    "plt.legend(loc='best', fontsize=20)"
   ]
  },
  {
   "cell_type": "code",
   "execution_count": null,
   "id": "6ae555d2",
   "metadata": {},
   "outputs": [],
   "source": []
  },
  {
   "cell_type": "code",
   "execution_count": null,
   "id": "db160191",
   "metadata": {},
   "outputs": [],
   "source": []
  },
  {
   "cell_type": "code",
   "execution_count": null,
   "id": "eefd0087",
   "metadata": {},
   "outputs": [],
   "source": []
  },
  {
   "cell_type": "code",
   "execution_count": null,
   "id": "19fd3c44",
   "metadata": {},
   "outputs": [],
   "source": []
  },
  {
   "cell_type": "code",
   "execution_count": null,
   "id": "d3a0e741",
   "metadata": {},
   "outputs": [],
   "source": []
  },
  {
   "cell_type": "code",
   "execution_count": null,
   "id": "5c00ab51",
   "metadata": {},
   "outputs": [],
   "source": []
  },
  {
   "cell_type": "code",
   "execution_count": 26,
   "id": "9635514f",
   "metadata": {},
   "outputs": [],
   "source": [
    "from keras.wrappers.scikit_learn import KerasRegressor"
   ]
  },
  {
   "cell_type": "code",
   "execution_count": 27,
   "id": "45b9631c",
   "metadata": {},
   "outputs": [
    {
     "name": "stderr",
     "output_type": "stream",
     "text": [
      "C:\\Users\\ASUS\\AppData\\Local\\Temp\\ipykernel_6192\\2440103601.py:28: DeprecationWarning: KerasRegressor is deprecated, use Sci-Keras (https://github.com/adriangb/scikeras) instead. See https://www.adriangb.com/scikeras/stable/migration.html for help migrating.\n",
      "  model= KerasRegressor(build_fn=reg)\n"
     ]
    }
   ],
   "source": [
    "def reg(optimizer):\n",
    "    #initialisizng the model \n",
    "    regression= Sequential()\n",
    "\n",
    "    #First Input layer and LSTM layer with 0.2% dropout\n",
    "    regression.add(LSTM(units=50,return_sequences=True,kernel_initializer='glorot_uniform',input_shape=(xtrain.shape[1],1)))\n",
    "    regression.add(Dropout(0.2))\n",
    "\n",
    "    # Second LSTM layer with 0.2% dropout\n",
    "    regression.add(LSTM(units=50,kernel_initializer= 'glorot_uniform',return_sequences=True))\n",
    "    regression.add(Dropout(0.2))\n",
    "\n",
    "    #Third LSTM layer with 0.2% dropout\n",
    "    regression.add(LSTM(units=50,kernel_initializer='glorot_uniform',return_sequences=True))\n",
    "    regression.add(Dropout(0.2))\n",
    "\n",
    "    #Fourth LSTM layer with 0.2% dropout, we wont use return sequence true in last layers as we dont want to previous output\n",
    "    regression.add(LSTM(units=50,kernel_initializer='glorot_uniform'))\n",
    "    regression.add(Dropout(0.2))\n",
    "    #Output layer , we wont pass any activation as its continous value model\n",
    "    regression.add(Dense(units=1))\n",
    "\n",
    "    #Compiling the network\n",
    "    regression.compile(optimizer=optimizer,loss='mean_squared_error')\n",
    "    \n",
    "    return regression\n",
    "\n",
    "model= KerasRegressor(build_fn=reg)"
   ]
  },
  {
   "cell_type": "code",
   "execution_count": 1,
   "id": "8fd7a367",
   "metadata": {},
   "outputs": [
    {
     "ename": "NameError",
     "evalue": "name 'model' is not defined",
     "output_type": "error",
     "traceback": [
      "\u001b[1;31m---------------------------------------------------------------------------\u001b[0m",
      "\u001b[1;31mNameError\u001b[0m                                 Traceback (most recent call last)",
      "Cell \u001b[1;32mIn[1], line 5\u001b[0m\n\u001b[0;32m      1\u001b[0m \u001b[38;5;28;01mfrom\u001b[39;00m \u001b[38;5;21;01msklearn\u001b[39;00m\u001b[38;5;21;01m.\u001b[39;00m\u001b[38;5;21;01mmodel_selection\u001b[39;00m \u001b[38;5;28;01mimport\u001b[39;00m RandomizedSearchCV\n\u001b[0;32m      2\u001b[0m parameters \u001b[38;5;241m=\u001b[39m {\u001b[38;5;124m'\u001b[39m\u001b[38;5;124mbatch_size\u001b[39m\u001b[38;5;124m'\u001b[39m: [\u001b[38;5;241m50\u001b[39m, \u001b[38;5;241m32\u001b[39m],\n\u001b[0;32m      3\u001b[0m               \u001b[38;5;124m'\u001b[39m\u001b[38;5;124mepochs\u001b[39m\u001b[38;5;124m'\u001b[39m: [\u001b[38;5;241m50\u001b[39m, \u001b[38;5;241m25\u001b[39m],\n\u001b[0;32m      4\u001b[0m               \u001b[38;5;124m'\u001b[39m\u001b[38;5;124moptimizer\u001b[39m\u001b[38;5;124m'\u001b[39m: [\u001b[38;5;124m'\u001b[39m\u001b[38;5;124madam\u001b[39m\u001b[38;5;124m'\u001b[39m, \u001b[38;5;124m'\u001b[39m\u001b[38;5;124mrmsprop\u001b[39m\u001b[38;5;124m'\u001b[39m,\u001b[38;5;124m'\u001b[39m\u001b[38;5;124msgd\u001b[39m\u001b[38;5;124m'\u001b[39m,\u001b[38;5;124m'\u001b[39m\u001b[38;5;124madadelta\u001b[39m\u001b[38;5;124m'\u001b[39m]}\n\u001b[1;32m----> 5\u001b[0m grid_search \u001b[38;5;241m=\u001b[39m RandomizedSearchCV(estimator \u001b[38;5;241m=\u001b[39m \u001b[43mmodel\u001b[49m,param_distributions\u001b[38;5;241m=\u001b[39mparameters,n_iter\u001b[38;5;241m=\u001b[39m\u001b[38;5;241m5\u001b[39m)\n\u001b[0;32m      6\u001b[0m \u001b[38;5;66;03m# fitting the model and Calculating the best parameters.\u001b[39;00m\n\u001b[0;32m      7\u001b[0m grid_search \u001b[38;5;241m=\u001b[39m grid_search\u001b[38;5;241m.\u001b[39mfit(xtrain, ytrain)\n",
      "\u001b[1;31mNameError\u001b[0m: name 'model' is not defined"
     ]
    }
   ],
   "source": [
    "from sklearn.model_selection import RandomizedSearchCV\n",
    "parameters = {'batch_size': [50, 32],\n",
    "              'epochs': [50, 25],\n",
    "              'optimizer': ['adam', 'rmsprop','sgd','adadelta']}\n",
    "grid_search = RandomizedSearchCV(estimator = model,param_distributions=parameters,n_iter=5)\n",
    "# fitting the model and Calculating the best parameters.\n",
    "grid_search = grid_search.fit(xtrain, ytrain)\n",
    "best_parameters = grid_search.best_params_"
   ]
  },
  {
   "cell_type": "code",
   "execution_count": null,
   "id": "3a007b49",
   "metadata": {},
   "outputs": [],
   "source": [
    "model=grid_search.best_estimator_.fit(xtrain,ytrain)"
   ]
  },
  {
   "cell_type": "code",
   "execution_count": null,
   "id": "27a2398b",
   "metadata": {},
   "outputs": [],
   "source": [
    "model"
   ]
  },
  {
   "cell_type": "code",
   "execution_count": null,
   "id": "645833c8",
   "metadata": {},
   "outputs": [],
   "source": [
    "predicted_value= grid_search.predict(xtest)\n",
    "predicted_value= ss.inverse_transform(predicted_value.reshape(-1,1))\n",
    "\n",
    "\n",
    "plt.figure(figsize=(20,10))\n",
    "plt.plot(test_open,'red',label='Real Prices')\n",
    "plt.plot(predicted_value,'blue',label='Predicted Prices')\n",
    "plt.xlabel('Time')\n",
    "plt.ylabel('Prices')\n",
    "plt.title('Real vs Predicted Prices')\n",
    "plt.legend(loc='best', fontsize=20)"
   ]
  },
  {
   "cell_type": "code",
   "execution_count": null,
   "id": "5b6e5b31",
   "metadata": {},
   "outputs": [],
   "source": []
  },
  {
   "cell_type": "code",
   "execution_count": null,
   "id": "b970a13a",
   "metadata": {},
   "outputs": [],
   "source": []
  }
 ],
 "metadata": {
  "kernelspec": {
   "display_name": "Python 3 (ipykernel)",
   "language": "python",
   "name": "python3"
  },
  "language_info": {
   "codemirror_mode": {
    "name": "ipython",
    "version": 3
   },
   "file_extension": ".py",
   "mimetype": "text/x-python",
   "name": "python",
   "nbconvert_exporter": "python",
   "pygments_lexer": "ipython3",
   "version": "3.11.1"
  }
 },
 "nbformat": 4,
 "nbformat_minor": 5
}
